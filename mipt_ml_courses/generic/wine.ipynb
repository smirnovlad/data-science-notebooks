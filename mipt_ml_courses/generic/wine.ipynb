version https://git-lfs.github.com/spec/v1
oid sha256:9420b4256e9b013e9ab8caec6ebab97acd21ef1ccf6db1a0a1aa5af0efa5bae2
size 6014558
