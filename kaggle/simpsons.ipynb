version https://git-lfs.github.com/spec/v1
oid sha256:1c4afe853a6e5ed3e3cdf7c7d03ee85a0cfa752ba75a6ee6c7338770dc8560dd
size 3407917
